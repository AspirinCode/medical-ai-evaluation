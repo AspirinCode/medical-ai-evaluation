{
 "cells": [
  {
   "cell_type": "code",
   "execution_count": 1,
   "metadata": {},
   "outputs": [],
   "source": [
    "import pandas as pd\n",
    "import numpy as np"
   ]
  },
  {
   "cell_type": "markdown",
   "metadata": {},
   "source": [
    "### Read CSV"
   ]
  },
  {
   "cell_type": "code",
   "execution_count": 2,
   "metadata": {},
   "outputs": [],
   "source": [
    "df_path = 'aiml_dfs/aiml_df.csv'\n",
    "df = pd.read_csv(df_path)"
   ]
  },
  {
   "cell_type": "markdown",
   "metadata": {},
   "source": [
    "### Compute Columns"
   ]
  },
  {
   "cell_type": "code",
   "execution_count": 46,
   "metadata": {},
   "outputs": [],
   "source": [
    "df['multisite'] = 1-((df['num_sites']=='1')|(df['num_sites'].isnull())).astype(int)\n",
    "df['decision_date_clean'] = pd.to_datetime(df['decision_date'], format='%m/%d/%Y')"
   ]
  },
  {
   "cell_type": "markdown",
   "metadata": {},
   "source": [
    "### Analysis"
   ]
  },
  {
   "cell_type": "code",
   "execution_count": 47,
   "metadata": {},
   "outputs": [
    {
     "data": {
      "text/plain": [
       "decision_date_clean\n",
       "2016     2\n",
       "2017     6\n",
       "2018    24\n",
       "2019    32\n",
       "2020    66\n",
       "Name: approval_number, dtype: int64"
      ]
     },
     "execution_count": 47,
     "metadata": {},
     "output_type": "execute_result"
    }
   ],
   "source": [
    "# Total AI devices per year\n",
    "df.groupby(df['decision_date_clean'].map(lambda x: x.year)).count()['approval_number']"
   ]
  },
  {
   "cell_type": "code",
   "execution_count": 48,
   "metadata": {},
   "outputs": [
    {
     "data": {
      "text/plain": [
       "decision_date_clean\n",
       "2016     0\n",
       "2017     1\n",
       "2018     8\n",
       "2019     8\n",
       "2020    20\n",
       "Name: multisite, dtype: int64"
      ]
     },
     "execution_count": 48,
     "metadata": {},
     "output_type": "execute_result"
    }
   ],
   "source": [
    "# Total multisite per year\n",
    "df.groupby(df['decision_date_clean'].map(lambda x: x.year)).sum()['multisite']"
   ]
  },
  {
   "cell_type": "code",
   "execution_count": 49,
   "metadata": {},
   "outputs": [
    {
     "data": {
      "text/plain": [
       "decision_date_clean\n",
       "2016    1204.0\n",
       "2017     111.0\n",
       "2018     300.0\n",
       "2019     383.0\n",
       "2020     261.0\n",
       "Name: sample_size, dtype: float64"
      ]
     },
     "execution_count": 49,
     "metadata": {},
     "output_type": "execute_result"
    }
   ],
   "source": [
    "# Median sample size per year\n",
    "df.groupby(df['decision_date_clean'].map(lambda x: x.year)).median()['sample_size']"
   ]
  }
 ],
 "metadata": {
  "kernelspec": {
   "display_name": "Python 3",
   "language": "python",
   "name": "python3"
  },
  "language_info": {
   "codemirror_mode": {
    "name": "ipython",
    "version": 3
   },
   "file_extension": ".py",
   "mimetype": "text/x-python",
   "name": "python",
   "nbconvert_exporter": "python",
   "pygments_lexer": "ipython3",
   "version": "3.7.6"
  }
 },
 "nbformat": 4,
 "nbformat_minor": 4
}
