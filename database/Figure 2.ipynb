{
 "cells": [
  {
   "cell_type": "code",
   "execution_count": 1,
   "metadata": {},
   "outputs": [],
   "source": [
    "import numpy as np\n",
    "import pandas as pd"
   ]
  },
  {
   "cell_type": "markdown",
   "metadata": {},
   "source": [
    "### Read CSV"
   ]
  },
  {
   "cell_type": "code",
   "execution_count": 2,
   "metadata": {},
   "outputs": [],
   "source": [
    "df_path = 'aiml_dfs/aiml_df.csv'\n",
    "df = pd.read_csv(df_path)"
   ]
  },
  {
   "cell_type": "markdown",
   "metadata": {},
   "source": [
    "### Calculate columns"
   ]
  },
  {
   "cell_type": "code",
   "execution_count": 35,
   "metadata": {},
   "outputs": [
    {
     "data": {
      "text/plain": [
       "Multiple/Other    60\n",
       "Head              25\n",
       "Heart             17\n",
       "Breast            15\n",
       "Chest             13\n",
       "Name: body_area_clean, dtype: int64"
      ]
     },
     "execution_count": 35,
     "metadata": {},
     "output_type": "execute_result"
    }
   ],
   "source": [
    "# Body area\n",
    "body_areas = ['Head', 'Heart', 'Breast', 'Chest']\n",
    "df['body_area_clean'] = [c if c in body_areas else 'Multiple/Other' for c in df['body_area']]\n",
    "df['body_area_clean'].value_counts()"
   ]
  },
  {
   "cell_type": "code",
   "execution_count": 36,
   "metadata": {},
   "outputs": [
    {
     "data": {
      "text/plain": [
       "0    76\n",
       "1    54\n",
       "Name: risk_level_high, dtype: int64"
      ]
     },
     "execution_count": 36,
     "metadata": {},
     "output_type": "execute_result"
    }
   ],
   "source": [
    "# Risk Area\n",
    "df['risk_level_high'] = (df['risk_level'].isin([3,4])).astype(int)\n",
    "df['risk_level_high'].value_counts()"
   ]
  },
  {
   "cell_type": "code",
   "execution_count": 37,
   "metadata": {},
   "outputs": [
    {
     "data": {
      "text/plain": [
       "0    93\n",
       "1    37\n",
       "Name: multisite, dtype: int64"
      ]
     },
     "execution_count": 37,
     "metadata": {},
     "output_type": "execute_result"
    }
   ],
   "source": [
    "# Multisite\n",
    "df['multisite'] = 1-((df['num_sites']=='1')|(df['num_sites'].isnull())).astype(int)\n",
    "df['multisite'].value_counts()"
   ]
  },
  {
   "cell_type": "code",
   "execution_count": 38,
   "metadata": {},
   "outputs": [
    {
     "data": {
      "text/plain": [
       "body_area_clean\n",
       "Breast            12\n",
       "Chest              6\n",
       "Head              23\n",
       "Heart              3\n",
       "Multiple/Other    10\n",
       "Name: risk_level_high, dtype: int64"
      ]
     },
     "execution_count": 38,
     "metadata": {},
     "output_type": "execute_result"
    }
   ],
   "source": [
    "# Number of high risk devices by body area\n",
    "df.groupby(['body_area_clean']).sum()['risk_level_high']"
   ]
  },
  {
   "cell_type": "code",
   "execution_count": 39,
   "metadata": {},
   "outputs": [
    {
     "data": {
      "text/plain": [
       "body_area_clean  risk_level_high\n",
       "Breast           0                   0\n",
       "                 1                   5\n",
       "Chest            0                   2\n",
       "                 1                   3\n",
       "Head             0                   0\n",
       "                 1                  12\n",
       "Heart            0                   2\n",
       "                 1                   0\n",
       "Multiple/Other   0                  11\n",
       "                 1                   2\n",
       "Name: multisite, dtype: int64"
      ]
     },
     "execution_count": 39,
     "metadata": {},
     "output_type": "execute_result"
    }
   ],
   "source": [
    "# Number of multisite per body area and risk level\n",
    "df.groupby(['body_area_clean', 'risk_level_high']).sum()['multisite']"
   ]
  },
  {
   "cell_type": "code",
   "execution_count": 40,
   "metadata": {},
   "outputs": [
    {
     "data": {
      "text/plain": [
       "body_area_clean  risk_level_high  multisite\n",
       "Breast           0                0            0\n",
       "                 1                0            0\n",
       "                                  1            0\n",
       "Chest            0                0            0\n",
       "                                  1            0\n",
       "                 1                0            0\n",
       "                                  1            0\n",
       "Head             0                0            0\n",
       "                 1                0            0\n",
       "                                  1            0\n",
       "Heart            0                0            0\n",
       "                                  1            0\n",
       "                 1                0            0\n",
       "Multiple/Other   0                0            2\n",
       "                                  1            2\n",
       "                 1                0            0\n",
       "                                  1            0\n",
       "Name: is_prospective, dtype: int64"
      ]
     },
     "execution_count": 40,
     "metadata": {},
     "output_type": "execute_result"
    }
   ],
   "source": [
    "# Prospective studies by body area, risk level, and multisite\n",
    "df.groupby(['body_area_clean', 'risk_level_high', 'multisite']).sum()['is_prospective']"
   ]
  },
  {
   "cell_type": "code",
   "execution_count": 41,
   "metadata": {},
   "outputs": [
    {
     "name": "stdout",
     "output_type": "stream",
     "text": [
      "Sample Size Mean: 473.9718309859155\n",
      "Sample Size Med ian: 300.0\n",
      "Sample Size Standard Deviation: 618.6538374759689\n"
     ]
    }
   ],
   "source": [
    "# Sample Size\n",
    "print('Sample Size Mean: {}'.format(df['sample_size'].mean()))\n",
    "print('Sample Size Med ian: {}'.format(df['sample_size'].median()))\n",
    "print('Sample Size Standard Deviation: {}'.format(df['sample_size'].std()))"
   ]
  },
  {
   "cell_type": "code",
   "execution_count": null,
   "metadata": {},
   "outputs": [],
   "source": []
  }
 ],
 "metadata": {
  "kernelspec": {
   "display_name": "Python 3",
   "language": "python",
   "name": "python3"
  },
  "language_info": {
   "codemirror_mode": {
    "name": "ipython",
    "version": 3
   },
   "file_extension": ".py",
   "mimetype": "text/x-python",
   "name": "python",
   "nbconvert_exporter": "python",
   "pygments_lexer": "ipython3",
   "version": "3.7.6"
  }
 },
 "nbformat": 4,
 "nbformat_minor": 4
}
