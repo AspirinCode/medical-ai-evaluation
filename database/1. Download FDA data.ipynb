{
 "cells": [
  {
   "cell_type": "markdown",
   "metadata": {},
   "source": [
    "# Downloading all 510ks and De Novos from FDA website"
   ]
  },
  {
   "cell_type": "code",
   "execution_count": 1,
   "metadata": {},
   "outputs": [],
   "source": [
    "import pandas as pd\n",
    "from bs4 import BeautifulSoup\n",
    "import requests\n",
    "import os\n",
    "import PyPDF2\n",
    "import fitz\n",
    "import re"
   ]
  },
  {
   "cell_type": "code",
   "execution_count": 2,
   "metadata": {},
   "outputs": [],
   "source": [
    "knums = []\n",
    "with open('raw_files/pmn96cur.txt', 'r', errors='ignore') as fp:\n",
    "    lines = fp.readlines()\n",
    "    for line in lines[1:]:\n",
    "        features = line.split('|')\n",
    "        if len(features) >= 11:\n",
    "            date = features[11]\n",
    "            year = int(date.split('/')[2])\n",
    "            if year >= 2015:\n",
    "                knums.append(features[0])\n"
   ]
  },
  {
   "cell_type": "code",
   "execution_count": 3,
   "metadata": {},
   "outputs": [
    {
     "data": {
      "text/plain": [
       "17817"
      ]
     },
     "execution_count": 3,
     "metadata": {},
     "output_type": "execute_result"
    }
   ],
   "source": [
    "len(knums)"
   ]
  },
  {
   "cell_type": "code",
   "execution_count": 8,
   "metadata": {},
   "outputs": [
    {
     "name": "stdout",
     "output_type": "stream",
     "text": [
      "0\n",
      "1000\n",
      "2000\n",
      "3000\n",
      "4000\n",
      "5000\n",
      "6000\n",
      "7000\n",
      "8000\n",
      "9000\n",
      "10000\n",
      "11000\n",
      "12000\n",
      "13000\n",
      "14000\n",
      "15000\n",
      "16000\n",
      "17000\n"
     ]
    }
   ],
   "source": [
    "entries = []\n",
    "\n",
    "for i, approval in enumerate(knums):\n",
    "    if i % 1000 == 0: print(i)\n",
    "    if approval.startswith('DEN'):\n",
    "        fda_link = link_deno\n",
    "    elif approval.startswith('K'):\n",
    "        fda_link = link_510k\n",
    "    else:\n",
    "        break\n",
    "        \n",
    "    # Download HTML from FDA website\n",
    "    if os.path.exists('FDA_htmls/{}.html'.format(approval)):\n",
    "        continue\n",
    "    r = requests.get(fda_link+approval)\n",
    "    with open('FDA_htmls/{}.html'.format(approval), 'w') as fp:\n",
    "        fp.write(r.text)\n",
    "        \n",
    "    # Parse metadata from FDA website\n",
    "    with open('FDA_htmls/{}.html'.format(approval), 'r') as fp:\n",
    "        soup = BeautifulSoup(fp)\n",
    "    entry = {}\n",
    "    entry['query_id'] = approval\n",
    "    for table in soup.findAll('table', {'align': 'center', 'style': 'text-transform: capitalize'}):\n",
    "        for tr in table.findAll('tr'):\n",
    "            try:\n",
    "                th = tr.find('th').text\n",
    "            except:\n",
    "                continue\n",
    "\n",
    "            for k, v in mapping.items():\n",
    "                if k in th:\n",
    "                    if v == 'summary_link':\n",
    "                        link = tr.find('a', href=True)['href']\n",
    "                        if len(link) == 0:\n",
    "                            link = tr.find('A', href=True)['HREF']\n",
    "                        entry[v] = link.strip().lower().replace('\\n', ' ').replace('\\r', ' ').replace('\\t', ' ')\n",
    "                    else:\n",
    "                        text = tr.find('td').text\n",
    "                        if len(text) > 0:\n",
    "                            entry[v] = text.strip().lower().replace('\\n', ' ').replace('\\r', ' ').replace('\\t', ' ')\n",
    "    if len(entry) > 0:                    \n",
    "        entries.append(entry)\n",
    "        if i % 100 == 0:\n",
    "            df = pd.DataFrame(entries)\n",
    "            df.to_csv('scrape.csv')\n",
    "        \n",
    "    else:\n",
    "        raise ValueError('No values found for HTML file {}'.format(approval))\n",
    "    \n",
    "    # Download PDF from FDA website\n",
    "    if 'summary_link' not in entry:\n",
    "        continue\n",
    "    r = requests.get(entry['summary_link'])\n",
    "    with open('FDA_pdfs/{}.pdf'.format(entry['approval_number']), 'wb') as fp:\n",
    "        fp.write(r.content)\n",
    "    \n",
    "    # Extract text from FDA website\n",
    "    try:\n",
    "        with fitz.open('FDA_pdfs/{}.pdf'.format(entry['approval_number'])) as fp:\n",
    "            pdf_text = \"\"\n",
    "            for i in fp:\n",
    "                pdf_text +=i.getText()\n",
    "        pdf_text = re.sub('[^0-9a-zA-Z]+', ' ', pdf_text)\n",
    "        with open('FDA_texts/{}.txt'.format(entry['approval_number']), 'w') as fp:\n",
    "            fp.write(pdf_text)\n",
    "    except:\n",
    "        continue\n",
    "\n",
    "df = pd.DataFrame(entries)\n",
    "df.to_csv('aiml_dfs/scrape.csv')"
   ]
  },
  {
   "cell_type": "markdown",
   "metadata": {},
   "source": [
    "# Download PMAs from FDA database"
   ]
  },
  {
   "cell_type": "code",
   "execution_count": 10,
   "metadata": {},
   "outputs": [],
   "source": [
    "nums = []\n",
    "with open('raw_files/pma.txt', 'r', errors='ignore') as fp:\n",
    "    lines = fp.readlines()\n",
    "    for line in lines[1:]:\n",
    "        features = line.split('|')\n",
    "        if len(features) >= 17:\n",
    "            date = features[17]\n",
    "            year = int(date.split('/')[2])\n",
    "            if year >= 2015:\n",
    "                nums.append(features[0])\n"
   ]
  },
  {
   "cell_type": "code",
   "execution_count": 11,
   "metadata": {},
   "outputs": [],
   "source": [
    "link_pma = 'https://www.accessdata.fda.gov/scripts/cdrh/cfdocs/cfpma/pma.cfm?id='\n"
   ]
  },
  {
   "cell_type": "code",
   "execution_count": 20,
   "metadata": {},
   "outputs": [
    {
     "name": "stdout",
     "output_type": "stream",
     "text": [
      "0\n",
      "1000\n",
      "2000\n",
      "3000\n",
      "4000\n",
      "5000\n",
      "6000\n",
      "7000\n",
      "8000\n",
      "9000\n",
      "10000\n",
      "11000\n",
      "12000\n",
      "13000\n",
      "14000\n",
      "15000\n"
     ]
    }
   ],
   "source": [
    "entries = []\n",
    "\n",
    "for i, approval in enumerate(nums):\n",
    "    if i % 1000 == 0: print(i)\n",
    "        \n",
    "    # Download HTML from FDA website\n",
    "    if os.path.exists('FDA_htmls/{}.html'.format(approval)):\n",
    "        continue\n",
    "    r = requests.get(link_pma+approval)\n",
    "    with open('FDA_htmls/{}.html'.format(approval), 'w') as fp:\n",
    "        fp.write(r.text)\n",
    "        \n",
    "    # Parse metadata from FDA website\n",
    "    with open('FDA_htmls/{}.html'.format(approval), 'r') as fp:\n",
    "        soup = BeautifulSoup(fp)\n",
    "    entry = {}\n",
    "    entry['query_id'] = approval\n",
    "    for table in soup.findAll('table', {'align': 'center', 'style': 'text-transform: capitalize'}):\n",
    "        for tr in table.findAll('tr'):\n",
    "            if 'Summary' in tr.text:\n",
    "                link = tr.find('a', href=True)['href']\n",
    "                if len(link) == 0:\n",
    "                    link = tr.find('A', href=True)['HREF']\n",
    "                entry['summary_link'] = link.strip().lower().replace('\\n', ' ').replace('\\r', ' ').replace('\\t', ' ')\n",
    "                #print(entry['summary_link'])\n",
    "    \n",
    "#     else:\n",
    "#         raise ValueError('No values found for HTML file {}'.format(approval))\n",
    "    \n",
    "    # Download PDF from FDA website\n",
    "    if 'summary_link' not in entry:\n",
    "        continue\n",
    "    r = requests.get(entry['summary_link'])\n",
    "    with open('FDA_pdfs/{}.pdf'.format(entry['query_id']), 'wb') as fp:\n",
    "        fp.write(r.content)\n",
    "    \n",
    "    # Extract text from FDA website\n",
    "    try:\n",
    "        with fitz.open('FDA_pdfs/{}.pdf'.format(entry['query_id'])) as fp:\n",
    "            pdf_text = \"\"\n",
    "            for i in fp:\n",
    "                pdf_text +=i.getText()\n",
    "        pdf_text = re.sub('[^0-9a-zA-Z]+', ' ', pdf_text)\n",
    "        with open('FDA_texts/{}.txt'.format(entry['query_id']), 'w') as fp:\n",
    "            fp.write(pdf_text)\n",
    "    except:\n",
    "        continue\n",
    "\n",
    "# df = pd.DataFrame(entries)\n",
    "# df.to_csv('scrape.csv')"
   ]
  },
  {
   "cell_type": "code",
   "execution_count": null,
   "metadata": {},
   "outputs": [],
   "source": []
  }
 ],
 "metadata": {
  "kernelspec": {
   "display_name": "Python 3",
   "language": "python",
   "name": "python3"
  },
  "language_info": {
   "codemirror_mode": {
    "name": "ipython",
    "version": 3
   },
   "file_extension": ".py",
   "mimetype": "text/x-python",
   "name": "python",
   "nbconvert_exporter": "python",
   "pygments_lexer": "ipython3",
   "version": "3.7.6"
  }
 },
 "nbformat": 4,
 "nbformat_minor": 4
}
