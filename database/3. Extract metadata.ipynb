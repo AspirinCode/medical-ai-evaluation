{
 "cells": [
  {
   "cell_type": "code",
   "execution_count": 1,
   "metadata": {},
   "outputs": [],
   "source": [
    "import pandas as pd\n",
    "from nltk.tokenize import RegexpTokenizer\n",
    "import re\n",
    "import numpy as np\n",
    "from collections import defaultdict\n",
    "import pandas as pd\n",
    "from bs4 import BeautifulSoup\n",
    "import requests\n",
    "import os\n",
    "import PyPDF2\n",
    "import fitz\n",
    "import re"
   ]
  },
  {
   "cell_type": "code",
   "execution_count": 2,
   "metadata": {},
   "outputs": [],
   "source": [
    "approvals = list(pd.read_csv('aiml_dfs/aiml_list.csv')['0'].values)"
   ]
  },
  {
   "cell_type": "code",
   "execution_count": 3,
   "metadata": {},
   "outputs": [],
   "source": [
    "# Feature name mapping for HTML\n",
    "mapping = {'Device Classification Name': 'device_classification_name',\n",
    "          '510(k) Number': 'approval_number',\n",
    "           'De Novo Number': 'approval_number',\n",
    "          'Device Name': 'device_name',\n",
    "          'Applicant': 'applicant_name',\n",
    "           'Requester': 'applicant_name',\n",
    "          'Applicant Contact': 'applicant_contact',\n",
    "          'Correspondent': 'correspondent_name',\n",
    "          'Regulation Number': 'regulation_number',\n",
    "          'Classification Product Code': 'classification_product_code',\n",
    "          'Date Received': 'date_received',\n",
    "          'Decision Date': 'decision_date',\n",
    "           'Decision': 'decision',\n",
    "           'Classification Advisory Committee': 'classification_advisory',\n",
    "           'Review Advisory Committee': 'review_advisory',\n",
    "           'Regulation Medical Specialty': 'regulation_medical_specialty',\n",
    "           '510k Review Panel': 'review_panel',\n",
    "           'statement': 'summary_link',\n",
    "           'summary': 'summary_link',\n",
    "           'FDA Review': 'summary_link',\n",
    "           'Reclassification Order': 'reclass_link',\n",
    "           'Type': 'type',\n",
    "           'Reviewed by Third Party': 'reviewed_by_third_party',\n",
    "           'Combination Product': 'combination_product'\n",
    "          }"
   ]
  },
  {
   "cell_type": "code",
   "execution_count": 19,
   "metadata": {},
   "outputs": [],
   "source": [
    "entries = []\n",
    "\n",
    "for approval in approvals:\n",
    "\n",
    "    # Parse metadata from FDA website\n",
    "    with open('FDA_htmls/{}.html'.format(approval), 'r') as fp:\n",
    "        soup = BeautifulSoup(fp)\n",
    "    entry = {}\n",
    "    entry['query_id'] = approval\n",
    "    for table in soup.findAll('table', {'align': 'center', 'style': 'text-transform: capitalize'}):\n",
    "        for tr in table.findAll('tr'):\n",
    "            try:\n",
    "                th = tr.find('th').text\n",
    "            except:\n",
    "                continue\n",
    "\n",
    "            for k, v in mapping.items():\n",
    "                if k in th:\n",
    "                    if v == 'summary_link':\n",
    "                        link = tr.find('a', href=True)['href']\n",
    "                        if len(link) == 0:\n",
    "                            link = tr.find('A', href=True)['HREF']\n",
    "                        entry[v] = link.strip().lower().replace('\\n', ' ').replace('\\r', ' ').replace('\\t', ' ')\n",
    "                    else:\n",
    "                        text = tr.find('td').text\n",
    "                        if len(text) > 0:\n",
    "                            entry[v] = text.strip().lower().replace('\\n', ' ').replace('\\r', ' ').replace('\\t', ' ')\n",
    "    if len(entry) > 0:                    \n",
    "        entries.append(entry)\n",
    "    else:\n",
    "        raise ValueError('No values found for HTML file {}'.format(approval))\n",
    "        \n",
    "df = pd.DataFrame(entries)"
   ]
  },
  {
   "cell_type": "code",
   "execution_count": 21,
   "metadata": {},
   "outputs": [],
   "source": [
    "df.to_csv('aiml_df.csv', index=False)"
   ]
  },
  {
   "cell_type": "code",
   "execution_count": null,
   "metadata": {},
   "outputs": [],
   "source": []
  }
 ],
 "metadata": {
  "kernelspec": {
   "display_name": "Python 3",
   "language": "python",
   "name": "python3"
  },
  "language_info": {
   "codemirror_mode": {
    "name": "ipython",
    "version": 3
   },
   "file_extension": ".py",
   "mimetype": "text/x-python",
   "name": "python",
   "nbconvert_exporter": "python",
   "pygments_lexer": "ipython3",
   "version": "3.7.6"
  }
 },
 "nbformat": 4,
 "nbformat_minor": 4
}
