{
 "cells": [
  {
   "cell_type": "code",
   "execution_count": 1,
   "metadata": {},
   "outputs": [],
   "source": [
    "import pandas as pd\n",
    "import os\n",
    "import re"
   ]
  },
  {
   "cell_type": "code",
   "execution_count": 27,
   "metadata": {},
   "outputs": [],
   "source": [
    "ai_words = ['neural network', 'deep learning', 'machine learning', 'artificial intelligence']"
   ]
  },
  {
   "cell_type": "code",
   "execution_count": 28,
   "metadata": {},
   "outputs": [],
   "source": [
    "my_list = []\n",
    "for fn in os.listdir('./FDA_texts/'):\n",
    "    with open('./FDA_texts/{}'.format(fn), 'r', errors='ignore') as fp:\n",
    "        text = fp.read()\n",
    "        text = text.lower().replace('\\n', ' ').replace('\\r', ' ').replace('\\t', ' ')\n",
    "        text = re.sub('[^0-9a-zA-Z]+', ' ', text)\n",
    "        num = fn.split('.')[0]\n",
    "        \n",
    "        for word in ai_words:\n",
    "            if word in text:\n",
    "                my_list.append(num)"
   ]
  },
  {
   "cell_type": "code",
   "execution_count": 30,
   "metadata": {},
   "outputs": [],
   "source": [
    "# new df is the scrape\n",
    "my_list = set(map(lambda x: x.upper(), my_list))"
   ]
  },
  {
   "cell_type": "code",
   "execution_count": 31,
   "metadata": {},
   "outputs": [
    {
     "name": "stdout",
     "output_type": "stream",
     "text": [
      "size of union of two databases: 123\n"
     ]
    }
   ],
   "source": [
    "# two existing database scrapes\n",
    "acr_df = pd.read_csv('raw_files/acr.csv')\n",
    "mf_df = pd.read_csv('raw_files/mf.csv')\n",
    "mf_set = set(mf_df['FDA approval number'].values)\n",
    "acr_set = set(acr_df['approval_number'].values)\n",
    "# size of union of two databases\n",
    "print(\"size of union of two databases:\", len(mf_set.union(acr_set)))\n"
   ]
  },
  {
   "cell_type": "code",
   "execution_count": 32,
   "metadata": {},
   "outputs": [],
   "source": [
    "# all three databases unioned\n",
    "all_list = mf_set.union(acr_set).union(my_list)\n"
   ]
  },
  {
   "cell_type": "code",
   "execution_count": 33,
   "metadata": {},
   "outputs": [
    {
     "data": {
      "text/plain": [
       "188"
      ]
     },
     "execution_count": 33,
     "metadata": {},
     "output_type": "execute_result"
    }
   ],
   "source": [
    "len(all_list)"
   ]
  },
  {
   "cell_type": "code",
   "execution_count": 34,
   "metadata": {},
   "outputs": [],
   "source": [
    "pd.DataFrame(all_list).to_csv('aiml_dfs/aiml_list.csv')"
   ]
  },
  {
   "cell_type": "code",
   "execution_count": null,
   "metadata": {},
   "outputs": [],
   "source": []
  }
 ],
 "metadata": {
  "kernelspec": {
   "display_name": "Python 3",
   "language": "python",
   "name": "python3"
  },
  "language_info": {
   "codemirror_mode": {
    "name": "ipython",
    "version": 3
   },
   "file_extension": ".py",
   "mimetype": "text/x-python",
   "name": "python",
   "nbconvert_exporter": "python",
   "pygments_lexer": "ipython3",
   "version": "3.7.6"
  }
 },
 "nbformat": 4,
 "nbformat_minor": 4
}
