{
 "cells": [
  {
   "cell_type": "code",
   "execution_count": 19,
   "metadata": {},
   "outputs": [],
   "source": [
    "import pandas as pd\n",
    "from sklearn.metrics import roc_auc_score\n",
    "import numpy as np\n",
    "import gc\n",
    "import matplotlib.pyplot as plt\n",
    "%matplotlib inline\n",
    "np.random.seed(7)"
   ]
  },
  {
   "cell_type": "code",
   "execution_count": 20,
   "metadata": {},
   "outputs": [],
   "source": [
    "def bootstrap_auc(y_true, y_pred, n=1000, sample_size=None):\n",
    "    \"\"\"\n",
    "    Generate `n` bootstrap samples, evaluating `func`\n",
    "    at each resampling. `bootstrap` returns a function,\n",
    "    which can be called to obtain confidence intervals\n",
    "    of interest.\n",
    "    \"\"\"\n",
    "    simulations = list()\n",
    "    if sample_size is None:\n",
    "        sample_size = len(y_pred)\n",
    "    num_tried = 0\n",
    "    while len(simulations) < n and num_tried < 10000:\n",
    "        num_tried += 1\n",
    "        iteridx = np.random.choice(range(len(y_pred)), size=sample_size, replace=True)\n",
    "        iterypred = [np.array(y_pred)[idx] for idx in iteridx]\n",
    "        iterytrue = [np.array(y_true)[idx] for idx in iteridx]\n",
    "        if len(set(iterytrue)) < 2:\n",
    "            continue\n",
    "        simulations.append(roc_auc_score(iterytrue, iterypred))\n",
    "    simulations.sort()\n",
    "    def ci(p):\n",
    "        \"\"\"\n",
    "        Return 2-sided symmetric confidence interval specified\n",
    "        by p.\n",
    "        \"\"\"\n",
    "        u_pval = (1+p)/2.\n",
    "        l_pval = (1-u_pval)\n",
    "        l_indx = int(np.floor(n*l_pval))\n",
    "        u_indx = int(np.floor(n*u_pval))\n",
    "        return(np.mean(simulations), np.abs(simulations[l_indx]-simulations[u_indx])/2)\n",
    "    result = ci(.95)\n",
    "    return result\n",
    "    "
   ]
  },
  {
   "cell_type": "markdown",
   "metadata": {},
   "source": [
    "# Calculating AUC per split"
   ]
  },
  {
   "cell_type": "code",
   "execution_count": 18,
   "metadata": {},
   "outputs": [
    {
     "name": "stdout",
     "output_type": "stream",
     "text": [
      "Split 1\n",
      "mean auc difference: 0.06426156200292223\n",
      "Split 2\n",
      "mean auc difference: 0.05469859493277769\n",
      "Split 3\n",
      "mean auc difference: 0.058323664186062704\n",
      "Split 4\n",
      "mean auc difference: 0.05754911143571424\n",
      "Split 5\n",
      "mean auc difference: 0.05886680539210924\n"
     ]
    }
   ],
   "source": [
    "splits = []\n",
    "for i in [1,2,3,4,5]:\n",
    "    print(\"Split {}\".format(i))\n",
    "    cxr_df = pd.read_csv('model_files/cxr_run_{}/cxr_test_result.csv'.format(i))\n",
    "    \n",
    "    cxr_csv = pd.read_csv('test_dfs/cxr_test_df.csv')\n",
    "    \n",
    "    nih_df = pd.read_csv('model_files/nih_run_{}/nih_test_result.csv'.format(i))\n",
    "    \n",
    "    nih_csv = pd.read_csv('test_dfs/nih_test_df.csv')\n",
    "    \n",
    "    cxp_df = pd.read_csv('model_files/cxp_run_{}/cxp_test_result.csv'.format(i))\n",
    "\n",
    "    cxp_csv = pd.read_csv('test_dfs/cxp_test_df.csv')\n",
    "    cxr_df = cxr_df[['Path', 'Pneumothorax']]\n",
    "    cxr_df.columns = ['Path', 'Pneumothorax_pred']\n",
    "    cxr_df = cxr_df.merge(cxr_csv, on=['Path'])\n",
    "    nih_df = nih_df[['Path', 'Pneumothorax']]\n",
    "    nih_df.columns = ['Path', 'Pneumothorax_pred']\n",
    "    nih_df = nih_df.merge(nih_csv, on=['Path'])\n",
    "    nih_df['study_id'] = nih_df.apply(lambda row: str(row['Patient ID'])+'/'+str(row['Follow-up #']), axis=1)\n",
    "\n",
    "    cxp_df = cxp_df[['Path', 'Pneumothorax']]\n",
    "    cxp_df.columns = ['Path', 'Pneumothorax_pred']\n",
    "    cxp_df = cxp_df.merge(cxp_csv, on=['Path'])\n",
    "    cxp_df['study_id'] = cxp_df.apply(lambda row: row['Path'].split('chexpert_full/train/')[1].split('/view')[0], axis=1)\n",
    "\n",
    "    split = []\n",
    "    cxr = cxr_df[['Path', 'study_id', 'Pneumothorax', 'Pneumothorax_pred']].groupby('study_id').max()[['Pneumothorax', 'Pneumothorax_pred']]\n",
    "    cxp = cxp_df[['Path', 'study_id', 'Pneumothorax', 'Pneumothorax_pred']].groupby('study_id').max()[['Pneumothorax', 'Pneumothorax_pred']]\n",
    "    nih = nih_df[['Path', 'study_id', 'Pneumothorax', 'Pneumothorax_pred']].groupby('study_id').max()[['Pneumothorax', 'Pneumothorax_pred']]\n",
    "    \n",
    "    gt = cxr['Pneumothorax'].values\n",
    "    pred = cxr['Pneumothorax_pred'].values\n",
    "    aucs = []\n",
    "    idx1 = np.arange(len(cxr['Pneumothorax'].values))\n",
    "    idx2 = np.arange(len(cxp['Pneumothorax'].values))\n",
    "    idx3 = np.arange(len(nih['Pneumothorax'].values))\n",
    "\n",
    "    for ix in range(1000):\n",
    "        np.random.shuffle(idx1)\n",
    "        np.random.shuffle(idx2)\n",
    "        np.random.shuffle(idx3)\n",
    "\n",
    "        auc1 = roc_auc_score(cxr['Pneumothorax'].values[idx1[0:645]], cxr['Pneumothorax_pred'].values[idx1[0:645]])\n",
    "        auc2 = roc_auc_score(cxp['Pneumothorax'].values[idx2[0:645]], cxp['Pneumothorax_pred'].values[idx2[0:645]])\n",
    "        auc3 = roc_auc_score(nih['Pneumothorax'].values[idx3[0:645]], nih['Pneumothorax_pred'].values[idx3[0:645]])\n",
    "        auc = [auc1, auc2, auc3]\n",
    "        aucs.append(np.max(auc)-np.min(auc))\n",
    "        \n",
    "    print(\"mean auc difference:\", np.mean(aucs))"
   ]
  },
  {
   "cell_type": "markdown",
   "metadata": {},
   "source": [
    "# Preprocessing study level scores"
   ]
  },
  {
   "cell_type": "code",
   "execution_count": 23,
   "metadata": {},
   "outputs": [],
   "source": [
    "cxr_dfs = []\n",
    "for i in [1,2,3,4,5]:\n",
    "    cxr_dfs.append(pd.read_csv('model_files/cxr_run_{}/cxr_test_result.csv'.format(i)))\n",
    "cxr_df = pd.concat(cxr_dfs)[['Path', 'Pneumothorax']]\n",
    "cxr_df.columns = ['Path', 'Pneumothorax_pred']\n",
    "cxr_df = cxr_df.groupby(cxr_df['Path']).mean()\n",
    "cxr_test_csv = pd.read_csv('cxr_test_df.csv')\n",
    "cxr_df = cxr_df.merge(cxr_test_csv, on=['Path'])\n",
    "\n",
    "nih_dfs = []\n",
    "for i in [1,2,3,4,5]:\n",
    "    nih_dfs.append(pd.read_csv('model_files/nih_run_{}/nih_test_result.csv'.format(i)))\n",
    "nih_df = pd.concat(nih_dfs)[['Path', 'Pneumothorax']]\n",
    "nih_df.columns = ['Path', 'Pneumothorax_pred']\n",
    "nih_df = nih_df.groupby(nih_df['Path']).mean()\n",
    "nih_test_csv = pd.read_csv('nih_test_df.csv')\n",
    "nih_df = nih_df.merge(nih_test_csv, on=['Path'])\n",
    "nih_df['study_id'] = nih_df.apply(lambda row: str(row['Patient ID'])+'/'+str(row['Follow-up #']), axis=1)\n",
    "\n",
    "cxp_dfs = []\n",
    "for i in [1,2,3,4,5]:\n",
    "    cxp_dfs.append(pd.read_csv('model_files/cxp_run_{}/cxp_test_result.csv'.format(i)))\n",
    "cxp_df = pd.concat(cxp_dfs)[['Path', 'Pneumothorax']]\n",
    "cxp_df.columns = ['Path', 'Pneumothorax_pred']\n",
    "cxp_df = cxp_df.groupby(cxp_df['Path']).mean()\n",
    "cxp_test_csv = pd.read_csv('cxp_test_df.csv')\n",
    "cxp_df = cxp_df.merge(cxp_test_csv, on=['Path'])\n",
    "cxp_df['study_id'] = cxp_df.apply(lambda row: row['Path'].split('chexpert_full/train/')[1].split('/view')[0], axis=1)\n"
   ]
  },
  {
   "cell_type": "code",
   "execution_count": 25,
   "metadata": {},
   "outputs": [
    {
     "data": {
      "text/plain": [
       "23204"
      ]
     },
     "execution_count": 25,
     "metadata": {},
     "output_type": "execute_result"
    }
   ],
   "source": [
    "cxr = cxr_df[['Path', 'study_id', 'Pneumothorax', 'Pneumothorax_pred']].groupby('study_id').mean()[['Pneumothorax', 'Pneumothorax_pred']]\n",
    "len(cxr)"
   ]
  },
  {
   "cell_type": "code",
   "execution_count": 26,
   "metadata": {},
   "outputs": [
    {
     "data": {
      "text/plain": [
       "18688"
      ]
     },
     "execution_count": 26,
     "metadata": {},
     "output_type": "execute_result"
    }
   ],
   "source": [
    "cxp = cxp_df[['Path', 'study_id', 'Pneumothorax', 'Pneumothorax_pred']].groupby('study_id').mean()[['Pneumothorax', 'Pneumothorax_pred']]\n",
    "len(cxp)"
   ]
  },
  {
   "cell_type": "code",
   "execution_count": 27,
   "metadata": {},
   "outputs": [
    {
     "data": {
      "text/plain": [
       "11196"
      ]
     },
     "execution_count": 27,
     "metadata": {},
     "output_type": "execute_result"
    }
   ],
   "source": [
    "nih = nih_df[['Path', 'study_id', 'Pneumothorax', 'Pneumothorax_pred']].groupby('study_id').mean()[['Pneumothorax', 'Pneumothorax_pred']]\n",
    "len(nih)"
   ]
  },
  {
   "cell_type": "code",
   "execution_count": 5,
   "metadata": {},
   "outputs": [
    {
     "name": "stdout",
     "output_type": "stream",
     "text": [
      "CXR auc: (0.8922053100633188, 0.009443761978620402)\n"
     ]
    },
    {
     "data": {
      "text/plain": [
       "20"
      ]
     },
     "execution_count": 5,
     "metadata": {},
     "output_type": "execute_result"
    }
   ],
   "source": [
    "cxr = cxr_df[['Path', 'study_id', 'Pneumothorax', 'Pneumothorax_pred']].groupby('study_id').mean()[['Pneumothorax', 'Pneumothorax_pred']]\n",
    "print('CXR auc: {}'.format(bootstrap_auc(cxr['Pneumothorax'].values, cxr['Pneumothorax_pred'].values)))\n",
    "gc.collect()"
   ]
  },
  {
   "cell_type": "code",
   "execution_count": 6,
   "metadata": {},
   "outputs": [
    {
     "name": "stdout",
     "output_type": "stream",
     "text": [
      "CXP auc: (0.9032517929665954, 0.008727204683319778)\n"
     ]
    },
    {
     "data": {
      "text/plain": [
       "0"
      ]
     },
     "execution_count": 6,
     "metadata": {},
     "output_type": "execute_result"
    }
   ],
   "source": [
    "cxp = cxp_df[['Path', 'study_id', 'Pneumothorax', 'Pneumothorax_pred']].groupby('study_id').mean()[['Pneumothorax', 'Pneumothorax_pred']]\n",
    "print('CXP auc: {}'.format(bootstrap_auc(cxp['Pneumothorax'].values, cxp['Pneumothorax_pred'].values)))\n",
    "gc.collect()"
   ]
  },
  {
   "cell_type": "code",
   "execution_count": 7,
   "metadata": {},
   "outputs": [
    {
     "name": "stdout",
     "output_type": "stream",
     "text": [
      "NIH auc: (0.8830817607306161, 0.014857936997854426)\n"
     ]
    },
    {
     "data": {
      "text/plain": [
       "0"
      ]
     },
     "execution_count": 7,
     "metadata": {},
     "output_type": "execute_result"
    }
   ],
   "source": [
    "nih = nih_df[['Path', 'study_id', 'Pneumothorax', 'Pneumothorax_pred']].groupby('study_id').mean()[['Pneumothorax', 'Pneumothorax_pred']]\n",
    "print('NIH auc: {}'.format(bootstrap_auc(nih['Pneumothorax'].values, nih['Pneumothorax_pred'].values)))\n",
    "gc.collect()"
   ]
  },
  {
   "cell_type": "code",
   "execution_count": 8,
   "metadata": {},
   "outputs": [
    {
     "name": "stdout",
     "output_type": "stream",
     "text": [
      "CXR on NIH auc: (0.839208977202384, 0.02104083975347093)\n",
      "CXR on CXP auc: (0.8265831697072394, 0.012005073235688724)\n"
     ]
    }
   ],
   "source": [
    "# CXR ON NIH\n",
    "cxr_dfs = []\n",
    "for i in [1,2,3,4,5]:\n",
    "    cxr_dfs.append(pd.read_csv('model_files/cxr_run_{}/nih_test_result.csv'.format(i)))\n",
    "cxr_df = pd.concat(cxr_dfs)[['Path', 'Pneumothorax']]\n",
    "cxr_df.columns = ['Path', 'Pneumothorax_pred']\n",
    "cxr_df = cxr_df.groupby(cxr_df['Path']).mean()\n",
    "cxr_df = cxr_df.merge(nih_test_csv, on=['Path'])\n",
    "cxr_df['study_id'] = cxr_df.apply(lambda row: str(row['Patient ID'])+'/'+str(row['Follow-up #']), axis=1)\n",
    "\n",
    "cxr = cxr_df[['Path', 'study_id', 'Pneumothorax', 'Pneumothorax_pred']].groupby('study_id').mean()[['Pneumothorax', 'Pneumothorax_pred']]\n",
    "print('CXR on NIH auc: {}'.format(bootstrap_auc(cxr['Pneumothorax'].values, cxr['Pneumothorax_pred'].values)))\n",
    "gc.collect()\n",
    "\n",
    "# CXR ON CXP\n",
    "cxr_dfs = []\n",
    "for i in [1,2,3,4,5]:\n",
    "    cxr_dfs.append(pd.read_csv('model_files/cxr_run_{}/cxp_test_result.csv'.format(i)))\n",
    "cxr_df = pd.concat(cxr_dfs)[['Path', 'Pneumothorax']]\n",
    "cxr_df.columns = ['Path', 'Pneumothorax_pred']\n",
    "cxr_df = cxr_df.groupby(cxr_df['Path']).mean()\n",
    "cxr_df = cxr_df.merge(cxp_test_csv, on=['Path'])\n",
    "cxr_df['study_id'] = cxr_df.apply(lambda row: row['Path'].split('chexpert_full/train/')[1].split('/view')[0], axis=1)\n",
    "\n",
    "cxr = cxr_df[['Path', 'study_id', 'Pneumothorax', 'Pneumothorax_pred']].groupby('study_id').mean()[['Pneumothorax', 'Pneumothorax_pred']]\n",
    "print('CXR on CXP auc: {}'.format(bootstrap_auc(cxr['Pneumothorax'].values, cxr['Pneumothorax_pred'].values)))\n"
   ]
  },
  {
   "cell_type": "code",
   "execution_count": 9,
   "metadata": {},
   "outputs": [
    {
     "name": "stdout",
     "output_type": "stream",
     "text": [
      "NIH on CXP auc: (0.7788719890048941, 0.013854236904995265)\n",
      "NIH on CXR auc:  (0.7589699379298408, 0.016889082124879884)\n"
     ]
    }
   ],
   "source": [
    "# NIH ON CXP\n",
    "nih_dfs = []\n",
    "for i in [1,2,3,4,5]:\n",
    "    nih_dfs.append(pd.read_csv('model_files/nih_run_{}/cxp_test_result.csv'.format(i)))\n",
    "nih_df = pd.concat(nih_dfs)[['Path', 'Pneumothorax']]\n",
    "nih_df.columns = ['Path', 'Pneumothorax_pred']\n",
    "nih_df = nih_df.groupby(nih_df['Path']).mean()\n",
    "nih_df = nih_df.merge(cxp_test_csv, on=['Path'])\n",
    "nih_df['study_id'] = nih_df.apply(lambda row: row['Path'].split('chexpert_full/train/')[1].split('/view')[0], axis=1)\n",
    "\n",
    "nih = nih_df[['Path', 'study_id', 'Pneumothorax', 'Pneumothorax_pred']].groupby('study_id').mean()[['Pneumothorax', 'Pneumothorax_pred']]\n",
    "print('NIH on CXP auc: {}'.format(bootstrap_auc(nih['Pneumothorax'].values, nih['Pneumothorax_pred'].values)))\n",
    "\n",
    "gc.collect()\n",
    "# NIH ON CXR\n",
    "nih_dfs = []\n",
    "for i in [1,2,3,4,5]:\n",
    "    nih_dfs.append(pd.read_csv('model_files/nih_run_{}/cxr_test_result.csv'.format(i)))\n",
    "nih_df = pd.concat(nih_dfs)[['Path', 'Pneumothorax']]\n",
    "nih_df.columns = ['Path', 'Pneumothorax_pred']\n",
    "nih_df = nih_df.groupby(nih_df['Path']).mean()\n",
    "nih_df = nih_df.merge(cxr_test_csv, on=['Path'])\n",
    "\n",
    "nih = nih_df[['Path', 'study_id', 'Pneumothorax', 'Pneumothorax_pred']].groupby('study_id').mean()[['Pneumothorax', 'Pneumothorax_pred']]\n",
    "print('NIH on CXR auc:  {}'.format(bootstrap_auc(nih['Pneumothorax'].values, nih['Pneumothorax_pred'].values)))\n"
   ]
  },
  {
   "cell_type": "code",
   "execution_count": 10,
   "metadata": {},
   "outputs": [
    {
     "name": "stdout",
     "output_type": "stream",
     "text": [
      "CXP on CXR auc: (0.8701812844562211, 0.012041924947213956)\n",
      "CXP on NIH auc: (0.8520762312558305, 0.019684178779250383)\n"
     ]
    }
   ],
   "source": [
    "#CXP ON CXR\n",
    "cxp_dfs = []\n",
    "for i in [1,2,3,4,5]:\n",
    "    cxp_dfs.append(pd.read_csv('model_files/cxp_run_{}/cxr_test_result.csv'.format(i)))\n",
    "cxp_df = pd.concat(cxp_dfs)[['Path', 'Pneumothorax']]\n",
    "cxp_df.columns = ['Path', 'Pneumothorax_pred']\n",
    "cxp_df = cxp_df.groupby(cxp_df['Path']).mean()\n",
    "cxp_df = cxp_df.merge(cxr_test_csv, on=['Path'])\n",
    "\n",
    "cxp = cxp_df[['Path', 'study_id', 'Pneumothorax', 'Pneumothorax_pred']].groupby('study_id').mean()[['Pneumothorax', 'Pneumothorax_pred']]\n",
    "print('CXP on CXR auc: {}'.format(bootstrap_auc(cxp['Pneumothorax'].values, cxp['Pneumothorax_pred'].values)))\n",
    "\n",
    "gc.collect()\n",
    "#CXP on NIH\n",
    "cxp_dfs = []\n",
    "for i in [1,2,3,4,5]:\n",
    "    cxp_dfs.append(pd.read_csv('model_files/cxp_run_{}/nih_test_result.csv'.format(i)))\n",
    "cxp_df = pd.concat(cxp_dfs)[['Path', 'Pneumothorax']]\n",
    "cxp_df.columns = ['Path', 'Pneumothorax_pred']\n",
    "cxp_df = cxp_df.groupby(cxp_df['Path']).mean()\n",
    "cxp_df = cxp_df.merge(nih_test_csv, on=['Path'])\n",
    "cxp_df['study_id'] = cxp_df.apply(lambda row: str(row['Patient ID'])+'/'+str(row['Follow-up #']), axis=1)\n",
    "\n",
    "cxp = cxp_df[['Path', 'study_id', 'Pneumothorax', 'Pneumothorax_pred']].groupby('study_id').mean()[['Pneumothorax', 'Pneumothorax_pred']]\n",
    "print('CXP on NIH auc: {}'.format(bootstrap_auc(cxp['Pneumothorax'].values, cxp['Pneumothorax_pred'].values)))\n",
    "\n"
   ]
  },
  {
   "cell_type": "code",
   "execution_count": 11,
   "metadata": {},
   "outputs": [
    {
     "data": {
      "text/plain": [
       "0.01411111111111111"
      ]
     },
     "execution_count": 11,
     "metadata": {},
     "output_type": "execute_result"
    }
   ],
   "source": [
    "(0.009+0.012+0.013+0.012+0.009+0.016+0.020+0.021+0.015)/9"
   ]
  },
  {
   "cell_type": "code",
   "execution_count": 12,
   "metadata": {},
   "outputs": [
    {
     "data": {
      "text/plain": [
       "0.0716666666666667"
      ]
     },
     "execution_count": 12,
     "metadata": {},
     "output_type": "execute_result"
    }
   ],
   "source": [
    "((.903-.870)+(.903-.852)+(.892-.827)+(.892-.839)+(.883-.779)+(.883-.759))/6"
   ]
  },
  {
   "cell_type": "code",
   "execution_count": null,
   "metadata": {},
   "outputs": [],
   "source": []
  }
 ],
 "metadata": {
  "kernelspec": {
   "display_name": "Python 3",
   "language": "python",
   "name": "python3"
  },
  "language_info": {
   "codemirror_mode": {
    "name": "ipython",
    "version": 3
   },
   "file_extension": ".py",
   "mimetype": "text/x-python",
   "name": "python",
   "nbconvert_exporter": "python",
   "pygments_lexer": "ipython3",
   "version": "3.7.6"
  }
 },
 "nbformat": 4,
 "nbformat_minor": 4
}
