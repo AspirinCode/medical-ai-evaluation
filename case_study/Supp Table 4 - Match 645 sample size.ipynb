{
 "cells": [
  {
   "cell_type": "code",
   "execution_count": 1,
   "metadata": {},
   "outputs": [],
   "source": [
    "import pandas as pd\n",
    "from sklearn.metrics import roc_auc_score\n",
    "import numpy as np\n",
    "import gc\n",
    "import matplotlib.pyplot as plt\n",
    "%matplotlib inline\n",
    "np.random.seed(7)"
   ]
  },
  {
   "cell_type": "code",
   "execution_count": 2,
   "metadata": {},
   "outputs": [],
   "source": [
    "def bootstrap_auc(y_true, y_pred, n=1000, sample_size=645):\n",
    "    \"\"\"\n",
    "    Generate `n` bootstrap samples, evaluating `func`\n",
    "    at each resampling. `bootstrap` returns a function,\n",
    "    which can be called to obtain confidence intervals\n",
    "    of interest.\n",
    "    \"\"\"\n",
    "    simulations = list()\n",
    "    if sample_size is None:\n",
    "        sample_size = len(y_pred)\n",
    "    num_tried = 0\n",
    "    while len(simulations) < n and num_tried < 10000:\n",
    "        num_tried += 1\n",
    "        iteridx = np.random.choice(range(len(y_pred)), size=sample_size, replace=True)\n",
    "        iterypred = [np.array(y_pred)[idx] for idx in iteridx]\n",
    "        iterytrue = [np.array(y_true)[idx] for idx in iteridx]\n",
    "        if len(set(iterytrue)) < 2:\n",
    "            continue\n",
    "        simulations.append(roc_auc_score(iterytrue, iterypred))\n",
    "    simulations.sort()\n",
    "    def ci(p):\n",
    "        \"\"\"\n",
    "        Return 2-sided symmetric confidence interval specified\n",
    "        by p.\n",
    "        \"\"\"\n",
    "        u_pval = (1+p)/2.\n",
    "        l_pval = (1-u_pval)\n",
    "        l_indx = int(np.floor(n*l_pval))\n",
    "        u_indx = int(np.floor(n*u_pval))\n",
    "        return(np.mean(simulations), np.abs(simulations[l_indx]-simulations[u_indx])/2)\n",
    "    result = ci(.95)\n",
    "    return result\n",
    "    "
   ]
  },
  {
   "cell_type": "markdown",
   "metadata": {},
   "source": [
    "# Calculating AUC per split"
   ]
  },
  {
   "cell_type": "code",
   "execution_count": 3,
   "metadata": {},
   "outputs": [
    {
     "name": "stdout",
     "output_type": "stream",
     "text": [
      "Split 1\n",
      "CXR: 0.864419814351297\n",
      "CXP: 0.891499280680008\n",
      "NIH: 0.8579875047033739\n",
      "Split 2\n",
      "CXR: 0.8764873350427249\n",
      "CXP: 0.8856284955508448\n",
      "NIH: 0.8711152091433588\n",
      "Split 3\n",
      "CXR: 0.8741205857933095\n",
      "CXP: 0.8890909060288147\n",
      "NIH: 0.8657632595948828\n",
      "Split 4\n",
      "CXR: 0.8870090185635829\n",
      "CXP: 0.8856849520652942\n",
      "NIH: 0.865126442367992\n",
      "Split 5\n",
      "CXR: 0.8802113024492033\n",
      "CXP: 0.8903737245356232\n",
      "NIH: 0.8671685885174966\n"
     ]
    }
   ],
   "source": [
    "splits = []\n",
    "for i in [1,2,3,4,5]:\n",
    "    print(\"Split {}\".format(i))\n",
    "    cxr_df = pd.read_csv('model_files/cxr_run_{}/cxr_test_result.csv'.format(i))\n",
    "    cxr_csv = pd.read_csv('test_dfs/cxr_test_df.csv')\n",
    "    \n",
    "    nih_df = pd.read_csv('model_files/nih_run_{}/nih_test_result.csv'.format(i))\n",
    "    \n",
    "    nih_csv = pd.read_csv('test_dfs/nih_test_df.csv')\n",
    "    \n",
    "    cxp_df = pd.read_csv('model_files/cxp_run_{}/cxp_test_result.csv'.format(i))\n",
    "\n",
    "    cxp_csv = pd.read_csv('test_dfs/cxp_test_df.csv')\n",
    "\n",
    "    cxr_df = cxr_df[['Path', 'Pneumothorax']]\n",
    "    cxr_df.columns = ['Path', 'Pneumothorax_pred']\n",
    "    cxr_df = cxr_df.merge(cxr_csv, on=['Path'])\n",
    "    nih_df = nih_df[['Path', 'Pneumothorax']]\n",
    "    nih_df.columns = ['Path', 'Pneumothorax_pred']\n",
    "    nih_df = nih_df.merge(nih_csv, on=['Path'])\n",
    "    nih_df['study_id'] = nih_df.apply(lambda row: str(row['Patient ID'])+'/'+str(row['Follow-up #']), axis=1)\n",
    "\n",
    "    cxp_df = cxp_df[['Path', 'Pneumothorax']]\n",
    "    cxp_df.columns = ['Path', 'Pneumothorax_pred']\n",
    "    cxp_df = cxp_df.merge(cxp_csv, on=['Path'])\n",
    "    cxp_df['study_id'] = cxp_df.apply(lambda row: row['Path'].split('chexpert_full/train/')[1].split('/view')[0], axis=1)\n",
    "\n",
    "    cxr = cxr_df[['Path', 'study_id', 'Pneumothorax', 'Pneumothorax_pred']].groupby('study_id').max()[['Pneumothorax', 'Pneumothorax_pred']]\n",
    "    auc = roc_auc_score(cxr['Pneumothorax'].values, cxr['Pneumothorax_pred'].values)\n",
    "    print('CXR: {}'.format(auc))\n",
    "    \n",
    "    cxp = cxp_df[['Path', 'study_id', 'Pneumothorax', 'Pneumothorax_pred']].groupby('study_id').max()[['Pneumothorax', 'Pneumothorax_pred']]\n",
    "    auc = roc_auc_score(cxp['Pneumothorax'].values, cxp['Pneumothorax_pred'].values)\n",
    "    print('CXP: {}'.format(auc))\n",
    "\n",
    "    nih = nih_df[['Path', 'study_id', 'Pneumothorax', 'Pneumothorax_pred']].groupby('study_id').max()[['Pneumothorax', 'Pneumothorax_pred']]\n",
    "    auc = roc_auc_score(nih['Pneumothorax'].values, nih['Pneumothorax_pred'].values)\n",
    "    print('NIH: {}'.format(auc))\n",
    "    \n",
    "    "
   ]
  },
  {
   "cell_type": "markdown",
   "metadata": {},
   "source": [
    "# Preprocessing study level scores"
   ]
  },
  {
   "cell_type": "code",
   "execution_count": 4,
   "metadata": {},
   "outputs": [],
   "source": [
    "cxr_dfs = []\n",
    "for i in [1,2,3,4,5]:\n",
    "    cxr_dfs.append(pd.read_csv('model_files/cxr_run_{}/cxr_test_result.csv'.format(i)))\n",
    "cxr_df = pd.concat(cxr_dfs)[['Path', 'Pneumothorax']]\n",
    "cxr_df.columns = ['Path', 'Pneumothorax_pred']\n",
    "cxr_df = cxr_df.groupby(cxr_df['Path']).mean()\n",
    "cxr_test_csv = pd.read_csv('test_dfs/cxr_test_df.csv')\n",
    "cxr_df = cxr_df.merge(cxr_test_csv, on=['Path'])\n",
    "\n",
    "nih_dfs = []\n",
    "for i in [1,2,3,4,5]:\n",
    "    nih_dfs.append(pd.read_csv('model_files/nih_run_{}/nih_test_result.csv'.format(i)))\n",
    "nih_df = pd.concat(nih_dfs)[['Path', 'Pneumothorax']]\n",
    "nih_df.columns = ['Path', 'Pneumothorax_pred']\n",
    "nih_df = nih_df.groupby(nih_df['Path']).mean()\n",
    "nih_test_csv = pd.read_csv('test_dfs/nih_test_df.csv')\n",
    "nih_df = nih_df.merge(nih_test_csv, on=['Path'])\n",
    "nih_df['study_id'] = nih_df.apply(lambda row: str(row['Patient ID'])+'/'+str(row['Follow-up #']), axis=1)\n",
    "\n",
    "cxp_dfs = []\n",
    "for i in [1,2,3,4,5]:\n",
    "    cxp_dfs.append(pd.read_csv('model_files/cxp_run_{}/cxp_test_result.csv'.format(i)))\n",
    "cxp_df = pd.concat(cxp_dfs)[['Path', 'Pneumothorax']]\n",
    "cxp_df.columns = ['Path', 'Pneumothorax_pred']\n",
    "cxp_df = cxp_df.groupby(cxp_df['Path']).mean()\n",
    "cxp_test_csv = pd.read_csv('test_dfs/cxp_test_df.csv')\n",
    "cxp_df = cxp_df.merge(cxp_test_csv, on=['Path'])\n",
    "cxp_df['study_id'] = cxp_df.apply(lambda row: row['Path'].split('chexpert_full/train/')[1].split('/view')[0], axis=1)\n"
   ]
  },
  {
   "cell_type": "code",
   "execution_count": 5,
   "metadata": {},
   "outputs": [
    {
     "name": "stdout",
     "output_type": "stream",
     "text": [
      "CXR auc: (0.8926802371302883, 0.05923445424286372)\n"
     ]
    },
    {
     "data": {
      "text/plain": [
       "20"
      ]
     },
     "execution_count": 5,
     "metadata": {},
     "output_type": "execute_result"
    }
   ],
   "source": [
    "cxr = cxr_df[['Path', 'study_id', 'Pneumothorax', 'Pneumothorax_pred']].groupby('study_id').mean()[['Pneumothorax', 'Pneumothorax_pred']]\n",
    "print('CXR auc: {}'.format(bootstrap_auc(cxr['Pneumothorax'].values, cxr['Pneumothorax_pred'].values)))\n",
    "gc.collect()"
   ]
  },
  {
   "cell_type": "code",
   "execution_count": 6,
   "metadata": {},
   "outputs": [
    {
     "name": "stdout",
     "output_type": "stream",
     "text": [
      "CXP auc: (0.9045383472881069, 0.047747722041507346)\n"
     ]
    },
    {
     "data": {
      "text/plain": [
       "0"
      ]
     },
     "execution_count": 6,
     "metadata": {},
     "output_type": "execute_result"
    }
   ],
   "source": [
    "cxp = cxp_df[['Path', 'study_id', 'Pneumothorax', 'Pneumothorax_pred']].groupby('study_id').mean()[['Pneumothorax', 'Pneumothorax_pred']]\n",
    "print('CXP auc: {}'.format(bootstrap_auc(cxp['Pneumothorax'].values, cxp['Pneumothorax_pred'].values)))\n",
    "gc.collect()"
   ]
  },
  {
   "cell_type": "code",
   "execution_count": 7,
   "metadata": {},
   "outputs": [
    {
     "name": "stdout",
     "output_type": "stream",
     "text": [
      "NIH auc: (0.8853182174067162, 0.06215625331532337)\n"
     ]
    },
    {
     "data": {
      "text/plain": [
       "0"
      ]
     },
     "execution_count": 7,
     "metadata": {},
     "output_type": "execute_result"
    }
   ],
   "source": [
    "nih = nih_df[['Path', 'study_id', 'Pneumothorax', 'Pneumothorax_pred']].groupby('study_id').mean()[['Pneumothorax', 'Pneumothorax_pred']]\n",
    "print('NIH auc: {}'.format(bootstrap_auc(nih['Pneumothorax'].values, nih['Pneumothorax_pred'].values)))\n",
    "gc.collect()"
   ]
  },
  {
   "cell_type": "code",
   "execution_count": 8,
   "metadata": {},
   "outputs": [
    {
     "name": "stdout",
     "output_type": "stream",
     "text": [
      "CXR on NIH auc: (0.8381883132047001, 0.08997141791972163)\n",
      "CXR on CXP auc: (0.8250992386155683, 0.06709021819327676)\n"
     ]
    }
   ],
   "source": [
    "# CXR ON NIH\n",
    "cxr_dfs = []\n",
    "for i in [1,2,3,4,5]:\n",
    "    cxr_dfs.append(pd.read_csv('model_files/cxr_run_{}/nih_test_result.csv'.format(i)))\n",
    "cxr_df = pd.concat(cxr_dfs)[['Path', 'Pneumothorax']]\n",
    "cxr_df.columns = ['Path', 'Pneumothorax_pred']\n",
    "cxr_df = cxr_df.groupby(cxr_df['Path']).mean()\n",
    "cxr_df = cxr_df.merge(nih_test_csv, on=['Path'])\n",
    "cxr_df['study_id'] = cxr_df.apply(lambda row: str(row['Patient ID'])+'/'+str(row['Follow-up #']), axis=1)\n",
    "\n",
    "# CXR ON CXP\n",
    "cxr = cxr_df[['Path', 'study_id', 'Pneumothorax', 'Pneumothorax_pred']].groupby('study_id').mean()[['Pneumothorax', 'Pneumothorax_pred']]\n",
    "print('CXR on NIH auc: {}'.format(bootstrap_auc(cxr['Pneumothorax'].values, cxr['Pneumothorax_pred'].values)))\n",
    "gc.collect()\n",
    "\n",
    "cxr_dfs = []\n",
    "for i in [1,2,3,4,5]:\n",
    "    cxr_dfs.append(pd.read_csv('model_files/cxr_run_{}/cxp_test_result.csv'.format(i)))\n",
    "cxr_df = pd.concat(cxr_dfs)[['Path', 'Pneumothorax']]\n",
    "cxr_df.columns = ['Path', 'Pneumothorax_pred']\n",
    "cxr_df = cxr_df.groupby(cxr_df['Path']).mean()\n",
    "cxr_df = cxr_df.merge(cxp_test_csv, on=['Path'])\n",
    "cxr_df['study_id'] = cxr_df.apply(lambda row: row['Path'].split('chexpert_full/train/')[1].split('/view')[0], axis=1)\n",
    "\n",
    "cxr = cxr_df[['Path', 'study_id', 'Pneumothorax', 'Pneumothorax_pred']].groupby('study_id').mean()[['Pneumothorax', 'Pneumothorax_pred']]\n",
    "print('CXR on CXP auc: {}'.format(bootstrap_auc(cxr['Pneumothorax'].values, cxr['Pneumothorax_pred'].values)))\n"
   ]
  },
  {
   "cell_type": "code",
   "execution_count": 9,
   "metadata": {},
   "outputs": [
    {
     "name": "stdout",
     "output_type": "stream",
     "text": [
      "NIH on CXP auc: (0.78150872288462, 0.07182757914328475)\n",
      "NIH on CXR auc:  (0.767338063461262, 0.09447236505491546)\n"
     ]
    }
   ],
   "source": [
    "# NIH ON CXP\n",
    "nih_dfs = []\n",
    "for i in [2,3,4,5]:\n",
    "    nih_dfs.append(pd.read_csv('model_files/nih_run_{}/cxp_test_result.csv'.format(i)))\n",
    "nih_df = pd.concat(nih_dfs)[['Path', 'Pneumothorax']]\n",
    "nih_df.columns = ['Path', 'Pneumothorax_pred']\n",
    "nih_df = nih_df.groupby(nih_df['Path']).mean()\n",
    "nih_df = nih_df.merge(cxp_test_csv, on=['Path'])\n",
    "nih_df['study_id'] = nih_df.apply(lambda row: row['Path'].split('chexpert_full/train/')[1].split('/view')[0], axis=1)\n",
    "\n",
    "nih = nih_df[['Path', 'study_id', 'Pneumothorax', 'Pneumothorax_pred']].groupby('study_id').mean()[['Pneumothorax', 'Pneumothorax_pred']]\n",
    "print('NIH on CXP auc: {}'.format(bootstrap_auc(nih['Pneumothorax'].values, nih['Pneumothorax_pred'].values)))\n",
    "\n",
    "gc.collect()\n",
    "# NIH ON CXR\n",
    "nih_dfs = []\n",
    "for i in [2,3,4,5]:\n",
    "    nih_dfs.append(pd.read_csv('model_files/nih_run_{}/cxr_test_result.csv'.format(i)))\n",
    "nih_df = pd.concat(nih_dfs)[['Path', 'Pneumothorax']]\n",
    "nih_df.columns = ['Path', 'Pneumothorax_pred']\n",
    "nih_df = nih_df.groupby(nih_df['Path']).mean()\n",
    "nih_df = nih_df.merge(cxr_test_csv, on=['Path'])\n",
    "\n",
    "nih = nih_df[['Path', 'study_id', 'Pneumothorax', 'Pneumothorax_pred']].groupby('study_id').mean()[['Pneumothorax', 'Pneumothorax_pred']]\n",
    "print('NIH on CXR auc:  {}'.format(bootstrap_auc(nih['Pneumothorax'].values, nih['Pneumothorax_pred'].values)))\n"
   ]
  },
  {
   "cell_type": "code",
   "execution_count": 10,
   "metadata": {},
   "outputs": [
    {
     "name": "stdout",
     "output_type": "stream",
     "text": [
      "CXP on CXR auc: (0.8690971493762342, 0.07759713408262608)\n",
      "CXP on NIH auc: (0.8537688410155057, 0.08230548983937658)\n"
     ]
    }
   ],
   "source": [
    "#CXP ON CXR\n",
    "cxp_dfs = []\n",
    "for i in [1,2,3,4,5]:\n",
    "    cxp_dfs.append(pd.read_csv('model_files/cxp_run_{}/cxr_test_result.csv'.format(i)))\n",
    "cxp_df = pd.concat(cxp_dfs)[['Path', 'Pneumothorax']]\n",
    "cxp_df.columns = ['Path', 'Pneumothorax_pred']\n",
    "cxp_df = cxp_df.groupby(cxp_df['Path']).mean()\n",
    "cxp_df = cxp_df.merge(cxr_test_csv, on=['Path'])\n",
    "\n",
    "cxp = cxp_df[['Path', 'study_id', 'Pneumothorax', 'Pneumothorax_pred']].groupby('study_id').mean()[['Pneumothorax', 'Pneumothorax_pred']]\n",
    "print('CXP on CXR auc: {}'.format(bootstrap_auc(cxp['Pneumothorax'].values, cxp['Pneumothorax_pred'].values)))\n",
    "\n",
    "gc.collect()\n",
    "#CXP on NIH\n",
    "cxp_dfs = []\n",
    "for i in [1,2,3,4,5]:\n",
    "    cxp_dfs.append(pd.read_csv('model_files/cxp_run_{}/nih_test_result.csv'.format(i)))\n",
    "cxp_df = pd.concat(cxp_dfs)[['Path', 'Pneumothorax']]\n",
    "cxp_df.columns = ['Path', 'Pneumothorax_pred']\n",
    "cxp_df = cxp_df.groupby(cxp_df['Path']).mean()\n",
    "cxp_df = cxp_df.merge(nih_test_csv, on=['Path'])\n",
    "cxp_df['study_id'] = cxp_df.apply(lambda row: str(row['Patient ID'])+'/'+str(row['Follow-up #']), axis=1)\n",
    "\n",
    "cxp = cxp_df[['Path', 'study_id', 'Pneumothorax', 'Pneumothorax_pred']].groupby('study_id').mean()[['Pneumothorax', 'Pneumothorax_pred']]\n",
    "print('CXP on NIH auc: {}'.format(bootstrap_auc(cxp['Pneumothorax'].values, cxp['Pneumothorax_pred'].values)))\n",
    "\n"
   ]
  },
  {
   "cell_type": "code",
   "execution_count": 11,
   "metadata": {},
   "outputs": [
    {
     "data": {
      "text/plain": [
       "0.07255555555555555"
      ]
     },
     "execution_count": 11,
     "metadata": {},
     "output_type": "execute_result"
    }
   ],
   "source": [
    "(0.048+0.067+0.072+0.078+0.060+0.094+0.082+0.090+0.0620)/9"
   ]
  },
  {
   "cell_type": "code",
   "execution_count": null,
   "metadata": {},
   "outputs": [],
   "source": []
  }
 ],
 "metadata": {
  "kernelspec": {
   "display_name": "Python 3",
   "language": "python",
   "name": "python3"
  },
  "language_info": {
   "codemirror_mode": {
    "name": "ipython",
    "version": 3
   },
   "file_extension": ".py",
   "mimetype": "text/x-python",
   "name": "python",
   "nbconvert_exporter": "python",
   "pygments_lexer": "ipython3",
   "version": "3.7.6"
  }
 },
 "nbformat": 4,
 "nbformat_minor": 4
}
