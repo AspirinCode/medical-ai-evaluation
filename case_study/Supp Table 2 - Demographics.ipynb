{
 "cells": [
  {
   "cell_type": "code",
   "execution_count": 1,
   "metadata": {},
   "outputs": [],
   "source": [
    "import pandas as pd\n",
    "from sklearn.metrics import roc_auc_score\n",
    "import numpy as np\n",
    "import gc\n",
    "np.random.seed(7)"
   ]
  },
  {
   "cell_type": "code",
   "execution_count": 2,
   "metadata": {},
   "outputs": [],
   "source": [
    "def bootstrap_auc(y_true, y_pred, n=1000):\n",
    "    \"\"\"\n",
    "    Generate `n` bootstrap samples, evaluating `func`\n",
    "    at each resampling. `bootstrap` returns a function,\n",
    "    which can be called to obtain confidence intervals\n",
    "    of interest.\n",
    "    \"\"\"\n",
    "    simulations = list()\n",
    "    sample_size = len(y_pred)\n",
    "    num_tried = 0\n",
    "    while len(simulations) < n and num_tried < 10000:\n",
    "        num_tried += 1\n",
    "        iteridx = np.random.choice(range(len(y_pred)), size=sample_size, replace=True)\n",
    "        iterypred = [np.array(y_pred)[idx] for idx in iteridx]\n",
    "        iterytrue = [np.array(y_true)[idx] for idx in iteridx]\n",
    "        if len(set(iterytrue)) < 2:\n",
    "            continue\n",
    "        simulations.append(roc_auc_score(iterytrue, iterypred))\n",
    "    simulations.sort()\n",
    "    def ci(p):\n",
    "        \"\"\"\n",
    "        Return 2-sided symmetric confidence interval specified\n",
    "        by p.\n",
    "        \"\"\"\n",
    "        u_pval = (1+p)/2.\n",
    "        l_pval = (1-u_pval)\n",
    "        l_indx = int(np.floor(n*l_pval))\n",
    "        u_indx = int(np.floor(n*u_pval))\n",
    "        return(np.mean(simulations), np.abs(simulations[l_indx]-simulations[u_indx])/2)\n",
    "    result = ci(.95)\n",
    "    return'{:.3f} ± {:.3f}'.format(result[0], result[1])"
   ]
  },
  {
   "cell_type": "markdown",
   "metadata": {},
   "source": [
    "## Process all dataframes"
   ]
  },
  {
   "cell_type": "code",
   "execution_count": 3,
   "metadata": {},
   "outputs": [],
   "source": [
    "cxr_dfs = []\n",
    "for i in [1,2,3,4,5]:\n",
    "    cxr_dfs.append(pd.read_csv('model_files/cxr_run_{}/cxr_test_result.csv'.format(i)))\n",
    "cxr_df = pd.concat(cxr_dfs)[['Path', 'Pneumothorax']]\n",
    "cxr_df.columns = ['Path', 'Pneumothorax_pred']\n",
    "cxr_df = cxr_df.groupby(cxr_df['Path']).mean()\n",
    "cxr_test_csv = pd.read_csv('test_dfs/cxr_test_df.csv')\n",
    "cxr_df = cxr_df.merge(cxr_test_csv, on=['Path'])\n",
    "\n",
    "nih_dfs = []\n",
    "for i in [1,2,3,4,5]:\n",
    "    nih_dfs.append(pd.read_csv('model_files/nih_run_{}/nih_test_result.csv'.format(i)))\n",
    "nih_df = pd.concat(nih_dfs)[['Path', 'Pneumothorax']]\n",
    "nih_df.columns = ['Path', 'Pneumothorax_pred']\n",
    "nih_df = nih_df.groupby(nih_df['Path']).mean()\n",
    "nih_test_csv = pd.read_csv('test_dfs/nih_test_df.csv')\n",
    "nih_df = nih_df.merge(nih_test_csv, on=['Path'])\n",
    "nih_df['study_id'] = nih_df.apply(lambda row: str(row['Patient ID'])+'/'+str(row['Follow-up #']), axis=1)\n",
    "\n",
    "cxp_dfs = []\n",
    "for i in [1,2,3,4,5]:\n",
    "    cxp_dfs.append(pd.read_csv('model_files/cxp_run_{}/cxp_test_result.csv'.format(i)))\n",
    "cxp_df = pd.concat(cxp_dfs)[['Path', 'Pneumothorax']]\n",
    "cxp_df.columns = ['Path', 'Pneumothorax_pred']\n",
    "cxp_df = cxp_df.groupby(cxp_df['Path']).mean()\n",
    "cxp_test_csv = pd.read_csv('test_dfs/cxp_test_df.csv')\n",
    "cxp_df = cxp_df.merge(cxp_test_csv, on=['Path'])\n",
    "cxp_df['study_id'] = cxp_df.apply(lambda row: row['Path'].split('chexpert_full/train/')[1].split('/view')[0], axis=1)\n"
   ]
  },
  {
   "cell_type": "markdown",
   "metadata": {},
   "source": [
    "## CXP"
   ]
  },
  {
   "cell_type": "code",
   "execution_count": 4,
   "metadata": {},
   "outputs": [
    {
     "name": "stdout",
     "output_type": "stream",
     "text": [
      "Male: 0.907 ± 0.010\n",
      "Female: 0.897 ± 0.015\n",
      "20: 0.815 ± 0.126\n",
      "40: 0.892 ± 0.021\n",
      "60: 0.904 ± 0.015\n",
      "80: 0.907 ± 0.014\n",
      "100: 0.886 ± 0.036\n"
     ]
    }
   ],
   "source": [
    "for val in cxp_df['Sex'].unique():\n",
    "    gt_df = cxp_df[cxp_df['Sex'] == val]\n",
    "    gt_df = gt_df[['Path', 'study_id', 'Pneumothorax', 'Pneumothorax_pred']].groupby('study_id').mean()[['Pneumothorax', 'Pneumothorax_pred']]\n",
    "    print('{}: {}'.format(val, bootstrap_auc(gt_df['Pneumothorax'].values, gt_df['Pneumothorax_pred'].values)))\n",
    "\n",
    "for val in [20, 40, 60, 80, 100]:\n",
    "    gt_df = cxp_df[(val-20 <= cxp_df['Age']) & (cxp_df['Age'] < val)]\n",
    "    gt_df = gt_df[['Path', 'study_id', 'Pneumothorax', 'Pneumothorax_pred']].groupby('study_id').mean()[['Pneumothorax', 'Pneumothorax_pred']]\n",
    "    if len(gt_df['Pneumothorax'].values) == 0 or len(np.unique(gt_df['Pneumothorax'].values)) == 1:\n",
    "        continue\n",
    "    print('{}: {}'.format(val, bootstrap_auc(gt_df['Pneumothorax'].values, gt_df['Pneumothorax_pred'].values)))\n"
   ]
  },
  {
   "cell_type": "markdown",
   "metadata": {},
   "source": [
    "## NIH"
   ]
  },
  {
   "cell_type": "code",
   "execution_count": 5,
   "metadata": {},
   "outputs": [
    {
     "name": "stdout",
     "output_type": "stream",
     "text": [
      "F: 0.880 ± 0.018\n",
      "M: 0.878 ± 0.026\n",
      "20: 0.919 ± 0.043\n",
      "40: 0.891 ± 0.023\n",
      "60: 0.870 ± 0.023\n",
      "80: 0.885 ± 0.040\n"
     ]
    }
   ],
   "source": [
    "for val in nih_df['Patient Gender'].unique():\n",
    "    gt_df = nih_df[nih_df['Patient Gender'] == val]\n",
    "    gt_df = gt_df[['Path', 'study_id', 'Pneumothorax', 'Pneumothorax_pred']].groupby('study_id').mean()[['Pneumothorax', 'Pneumothorax_pred']]\n",
    "    print('{}: {}'.format(val, bootstrap_auc(gt_df['Pneumothorax'].values, gt_df['Pneumothorax_pred'].values)))\n",
    "\n",
    "for val in [20, 40, 60, 80, 100]:\n",
    "    gt_df = nih_df[(val-20 <= nih_df['Patient Age']) & (nih_df['Patient Age'] < val)]\n",
    "    gt_df = gt_df[['Path', 'study_id', 'Pneumothorax', 'Pneumothorax_pred']].groupby('study_id').mean()[['Pneumothorax', 'Pneumothorax_pred']]\n",
    "    if len(gt_df['Pneumothorax'].values) == 0 or len(np.unique(gt_df['Pneumothorax'].values)) == 1:\n",
    "        continue\n",
    "    print('{}: {}'.format(val, bootstrap_auc(gt_df['Pneumothorax'].values, gt_df['Pneumothorax_pred'].values)))\n"
   ]
  },
  {
   "cell_type": "markdown",
   "metadata": {},
   "source": [
    "# CXR"
   ]
  },
  {
   "cell_type": "code",
   "execution_count": 6,
   "metadata": {},
   "outputs": [],
   "source": [
    "demo_df = pd.read_csv('test_dfs/cxr_demo_df.csv')\n",
    "cxr_combo_df = cxr_df.merge(demo_df, on='subject_id', how='inner')\n",
    "cxr_combo_df['ethnicity'] = cxr_combo_df['ethnicity'].apply(lambda x: 'OTHER' if x in ['AMERICAN INDIAN/ALASKA NATIVE', 'UNKNOWN', 'UNABLE TO OBTAIN'] else x)\n",
    "cxr_combo_df['insurance'] = cxr_combo_df['insurance'].apply(lambda x: 'Other' if x == 'Medicare' else x)\n",
    "cxr_df = cxr_combo_df[cxr_combo_df['anchor_age'] != 0]\n"
   ]
  },
  {
   "cell_type": "code",
   "execution_count": 8,
   "metadata": {},
   "outputs": [
    {
     "name": "stdout",
     "output_type": "stream",
     "text": [
      "F: 0.889 ± 0.015 (N=10501)\n",
      "M: 0.888 ± 0.013 (N=11387)\n",
      "20: 0.995 ± 0.013 (N=79)\n",
      "40: 0.877 ± 0.027 (N=2398)\n",
      "60: 0.894 ± 0.015 (N=7103)\n",
      "80: 0.889 ± 0.015 (N=8949)\n",
      "100: 0.887 ± 0.027 (N=3359)\n",
      "BLACK/AFRICAN AMERICAN: 0.907 ± 0.023 (N=3832)\n",
      "WHITE: 0.883 ± 0.011 (N=14649)\n",
      "HISPANIC/LATINO: 0.883 ± 0.058 (N=1547)\n",
      "OTHER: 0.872 ± 0.033 (N=3050)\n",
      "ASIAN: 0.892 ± 0.033 (N=692)\n",
      "Other: 0.888 ± 0.010\n",
      "Medicaid: 0.902 ± 0.028\n"
     ]
    }
   ],
   "source": [
    "for val in cxr_combo_df['gender'].unique():\n",
    "    gt_df = cxr_combo_df[cxr_combo_df['gender'] == val]\n",
    "    gt_df = gt_df[['Path', 'study_id', 'Pneumothorax', 'Pneumothorax_pred']].groupby('study_id').mean()[['Pneumothorax', 'Pneumothorax_pred']]\n",
    "    print('{}: {} (N={})'.format(val, bootstrap_auc(gt_df['Pneumothorax'].values, gt_df['Pneumothorax_pred'].values), len(gt_df)))\n",
    "\n",
    "for val in [20, 40, 60, 80, 100]:\n",
    "    gt_df = cxr_combo_df[(val-20 <= cxr_combo_df['anchor_age']) & (cxr_combo_df['anchor_age'] < val)]\n",
    "    gt_df = gt_df[['Path', 'study_id', 'Pneumothorax', 'Pneumothorax_pred']].groupby('study_id').mean()[['Pneumothorax', 'Pneumothorax_pred']]\n",
    "    if len(gt_df['Pneumothorax'].values) == 0 or len(np.unique(gt_df['Pneumothorax'].values)) == 1:\n",
    "        continue\n",
    "    print('{}: {} (N={})'.format(val, bootstrap_auc(gt_df['Pneumothorax'].values, gt_df['Pneumothorax_pred'].values), len(gt_df)))\n",
    "\n",
    "for val in cxr_combo_df['ethnicity'].unique():\n",
    "    gt_df = cxr_combo_df[cxr_combo_df['ethnicity'] == val]\n",
    "    gt_df = gt_df[['Path', 'study_id', 'Pneumothorax', 'Pneumothorax_pred']].groupby('study_id').mean()[['Pneumothorax', 'Pneumothorax_pred']]\n",
    "    if len(gt_df['Pneumothorax'].values) == 0 or len(np.unique(gt_df['Pneumothorax'].values)) == 1:\n",
    "        continue\n",
    "    print('{}: {} (N={})'.format(val, bootstrap_auc(gt_df['Pneumothorax'].values, gt_df['Pneumothorax_pred'].values), len(gt_df)))\n",
    "\n",
    "for val in cxr_combo_df['insurance'].unique():\n",
    "    gt_df = cxr_combo_df[cxr_combo_df['insurance'] == val]\n",
    "    gt_df = gt_df[['Path', 'study_id', 'Pneumothorax', 'Pneumothorax_pred']].groupby('study_id').mean()[['Pneumothorax', 'Pneumothorax_pred']]\n",
    "    if len(gt_df['Pneumothorax'].values) == 0 or len(np.unique(gt_df['Pneumothorax'].values)) == 1:\n",
    "        continue\n",
    "    print('{}: {}'.format(val, bootstrap_auc(gt_df['Pneumothorax'].values, gt_df['Pneumothorax_pred'].values)))\n"
   ]
  },
  {
   "cell_type": "markdown",
   "metadata": {},
   "source": [
    "## NIH on CXR"
   ]
  },
  {
   "cell_type": "code",
   "execution_count": 10,
   "metadata": {},
   "outputs": [
    {
     "name": "stdout",
     "output_type": "stream",
     "text": [
      "F: 0.753 ± 0.025 (N=10501)\n",
      "M: 0.771 ± 0.020 (N=11387)\n",
      "20: 0.771 ± 0.325 (N=79)\n",
      "40: 0.821 ± 0.038 (N=2398)\n",
      "60: 0.791 ± 0.025 (N=7103)\n",
      "80: 0.748 ± 0.028 (N=8949)\n",
      "100: 0.697 ± 0.050 (N=3359)\n",
      "BLACK/AFRICAN AMERICAN: 0.650 ± 0.066 (N=3832)\n",
      "WHITE: 0.759 ± 0.020 (N=14649)\n",
      "HISPANIC/LATINO: 0.755 ± 0.091 (N=1547)\n",
      "OTHER: 0.800 ± 0.036 (N=2976)\n",
      "ASIAN: 0.834 ± 0.054 (N=692)\n",
      "AMERICAN INDIAN/ALASKA NATIVE: 0.641 ± 0.168 (N=74)\n",
      "Other: 0.763 ± 0.016 (N=20909)\n",
      "Medicaid: 0.812 ± 0.046 (N=2874)\n"
     ]
    }
   ],
   "source": [
    "# NIH ON CXR\n",
    "nih_dfs = []\n",
    "for i in [2,3,4,5]:\n",
    "    nih_dfs.append(pd.read_csv('model_files/nih_run_{}/cxr_test_result.csv'.format(i)))\n",
    "nih_df = pd.concat(nih_dfs)[['Path', 'Pneumothorax']]\n",
    "nih_df.columns = ['Path', 'Pneumothorax_pred']\n",
    "nih_df = nih_df.groupby(nih_df['Path']).mean()\n",
    "nih_df = nih_df.merge(cxr_test_csv, on=['Path'])\n",
    "#nih_df = nih_df[['Path', 'study_id', 'Pneumothorax', 'Pneumothorax_pred']].groupby('study_id').mean()[['Pneumothorax', 'Pneumothorax_pred']]\n",
    "\n",
    "demo_df = pd.read_csv('test_dfs/cxr_demo_df.csv')\n",
    "cxr_combo_df = nih_df.merge(demo_df, on='subject_id', how='inner')\n",
    "cxr_combo_df['ethnicity'] = cxr_combo_df['ethnicity'].apply(lambda x: 'OTHER' if x in ['UNKNOWN', 'UNABLE TO OBTAIN'] else x)\n",
    "cxr_combo_df['insurance'] = cxr_combo_df['insurance'].apply(lambda x: 'Other' if x == 'Medicare' else x)\n",
    "cxr_df = cxr_combo_df[cxr_combo_df['anchor_age'] != 0]\n",
    "\n",
    "for val in cxr_combo_df['gender'].unique():\n",
    "    gt_df = cxr_combo_df[cxr_combo_df['gender'] == val]\n",
    "    gt_df = gt_df[['Path', 'study_id', 'Pneumothorax', 'Pneumothorax_pred']].groupby('study_id').mean()[['Pneumothorax', 'Pneumothorax_pred']]\n",
    "    print('{}: {} (N={})'.format(val, bootstrap_auc(gt_df['Pneumothorax'].values, gt_df['Pneumothorax_pred'].values), len(gt_df)))\n",
    "\n",
    "for val in [20, 40, 60, 80, 100]:\n",
    "    gt_df = cxr_combo_df[(val-20 <= cxr_combo_df['anchor_age']) & (cxr_combo_df['anchor_age'] < val)]\n",
    "    gt_df = gt_df[['Path', 'study_id', 'Pneumothorax', 'Pneumothorax_pred']].groupby('study_id').mean()[['Pneumothorax', 'Pneumothorax_pred']]\n",
    "    if len(gt_df['Pneumothorax'].values) == 0 or len(np.unique(gt_df['Pneumothorax'].values)) == 1:\n",
    "        continue\n",
    "    print('{}: {} (N={})'.format(val, bootstrap_auc(gt_df['Pneumothorax'].values, gt_df['Pneumothorax_pred'].values), len(gt_df)))\n",
    "\n",
    "for val in cxr_combo_df['ethnicity'].unique():\n",
    "    gt_df = cxr_combo_df[cxr_combo_df['ethnicity'] == val]\n",
    "    gt_df = gt_df[['Path', 'study_id', 'Pneumothorax', 'Pneumothorax_pred']].groupby('study_id').mean()[['Pneumothorax', 'Pneumothorax_pred']]\n",
    "    if len(gt_df['Pneumothorax'].values) == 0 or len(np.unique(gt_df['Pneumothorax'].values)) == 1:\n",
    "        continue\n",
    "    print('{}: {} (N={})'.format(val, bootstrap_auc(gt_df['Pneumothorax'].values, gt_df['Pneumothorax_pred'].values), len(gt_df)))\n",
    "\n",
    "for val in cxr_combo_df['insurance'].unique():\n",
    "    gt_df = cxr_combo_df[cxr_combo_df['insurance'] == val]\n",
    "    gt_df = gt_df[['Path', 'study_id', 'Pneumothorax', 'Pneumothorax_pred']].groupby('study_id').mean()[['Pneumothorax', 'Pneumothorax_pred']]\n",
    "    if len(gt_df['Pneumothorax'].values) == 0 or len(np.unique(gt_df['Pneumothorax'].values)) == 1:\n",
    "        continue\n",
    "    print('{}: {} (N={})'.format(val, bootstrap_auc(gt_df['Pneumothorax'].values, gt_df['Pneumothorax_pred'].values), len(gt_df)))\n"
   ]
  },
  {
   "cell_type": "markdown",
   "metadata": {},
   "source": [
    "## CXP on CXR"
   ]
  },
  {
   "cell_type": "code",
   "execution_count": 12,
   "metadata": {
    "scrolled": true
   },
   "outputs": [
    {
     "name": "stdout",
     "output_type": "stream",
     "text": [
      "F: 0.858 ± 0.022 (N=10501)\n",
      "M: 0.877 ± 0.015 (N=11387)\n",
      "20: 0.984 ± 0.026 (N=79)\n",
      "40: 0.895 ± 0.027 (N=2398)\n",
      "60: 0.884 ± 0.020 (N=7103)\n",
      "80: 0.860 ± 0.021 (N=8949)\n",
      "100: 0.825 ± 0.045 (N=3359)\n",
      "BLACK/AFRICAN AMERICAN: 0.828 ± 0.046\n",
      "WHITE: 0.871 ± 0.015\n",
      "HISPANIC/LATINO: 0.868 ± 0.069\n",
      "OTHER: 0.857 ± 0.039\n",
      "ASIAN: 0.891 ± 0.040\n",
      "AMERICAN INDIAN/ALASKA NATIVE: 0.936 ± 0.086\n",
      "Other: 0.871 ± 0.013\n",
      "Medicaid: 0.883 ± 0.033\n"
     ]
    }
   ],
   "source": [
    "#CXP ON CXR\n",
    "cxp_dfs = []\n",
    "for i in [1,2,3,4,5]:\n",
    "    cxp_dfs.append(pd.read_csv('model_files/cxp_run_{}/cxr_test_result.csv'.format(i)))\n",
    "cxp_df = pd.concat(cxp_dfs)[['Path', 'Pneumothorax']]\n",
    "cxp_df.columns = ['Path', 'Pneumothorax_pred']\n",
    "cxp_df = cxp_df.groupby(cxp_df['Path']).mean()\n",
    "cxp_df = cxp_df.merge(cxr_test_csv, on=['Path'])\n",
    "#cxp_df = cxp_df[['Path', 'study_id', 'Pneumothorax', 'Pneumothorax_pred']].groupby('study_id').mean()[['Pneumothorax', 'Pneumothorax_pred']]\n",
    "\n",
    "cxr_combo_df = cxp_df.merge(demo_df, on='subject_id', how='inner')\n",
    "cxr_combo_df['ethnicity'] = cxr_combo_df['ethnicity'].apply(lambda x: 'OTHER' if x in ['UNKNOWN', 'UNABLE TO OBTAIN'] else x)\n",
    "cxr_combo_df['insurance'] = cxr_combo_df['insurance'].apply(lambda x: 'Other' if x == 'Medicare' else x)\n",
    "cxr_df = cxr_combo_df[cxr_combo_df['anchor_age'] != 0]\n",
    "\n",
    "for val in cxr_combo_df['gender'].unique():\n",
    "    gt_df = cxr_combo_df[cxr_combo_df['gender'] == val]\n",
    "    gt_df = gt_df[['Path', 'study_id', 'Pneumothorax', 'Pneumothorax_pred']].groupby('study_id').mean()[['Pneumothorax', 'Pneumothorax_pred']]\n",
    "    print('{}: {} (N={})'.format(val, bootstrap_auc(gt_df['Pneumothorax'].values, gt_df['Pneumothorax_pred'].values), len(gt_df)))\n",
    "\n",
    "for val in [20, 40, 60, 80, 100]:\n",
    "    gt_df = cxr_combo_df[(val-20 <= cxr_combo_df['anchor_age']) & (cxr_combo_df['anchor_age'] < val)]\n",
    "    gt_df = gt_df[['Path', 'study_id', 'Pneumothorax', 'Pneumothorax_pred']].groupby('study_id').mean()[['Pneumothorax', 'Pneumothorax_pred']]\n",
    "    if len(gt_df['Pneumothorax'].values) == 0 or len(np.unique(gt_df['Pneumothorax'].values)) == 1:\n",
    "        continue\n",
    "    print('{}: {} (N={})'.format(val, bootstrap_auc(gt_df['Pneumothorax'].values, gt_df['Pneumothorax_pred'].values), len(gt_df)))\n",
    "\n",
    "for val in cxr_combo_df['ethnicity'].unique():\n",
    "    gt_df = cxr_combo_df[cxr_combo_df['ethnicity'] == val]\n",
    "    gt_df = gt_df[['Path', 'study_id', 'Pneumothorax', 'Pneumothorax_pred']].groupby('study_id').mean()[['Pneumothorax', 'Pneumothorax_pred']]\n",
    "    if len(gt_df['Pneumothorax'].values) == 0 or len(np.unique(gt_df['Pneumothorax'].values)) == 1:\n",
    "        continue\n",
    "    print('{}: {}'.format(val, bootstrap_auc(gt_df['Pneumothorax'].values, gt_df['Pneumothorax_pred'].values)))\n",
    "\n",
    "for val in cxr_combo_df['insurance'].unique():\n",
    "    gt_df = cxr_combo_df[cxr_combo_df['insurance'] == val]\n",
    "    gt_df = gt_df[['Path', 'study_id', 'Pneumothorax', 'Pneumothorax_pred']].groupby('study_id').mean()[['Pneumothorax', 'Pneumothorax_pred']]\n",
    "    if len(gt_df['Pneumothorax'].values) == 0 or len(np.unique(gt_df['Pneumothorax'].values)) == 1:\n",
    "        continue\n",
    "    print('{}: {}'.format(val, bootstrap_auc(gt_df['Pneumothorax'].values, gt_df['Pneumothorax_pred'].values)))\n",
    "\n"
   ]
  },
  {
   "cell_type": "code",
   "execution_count": null,
   "metadata": {},
   "outputs": [],
   "source": []
  },
  {
   "cell_type": "code",
   "execution_count": null,
   "metadata": {},
   "outputs": [],
   "source": []
  }
 ],
 "metadata": {
  "kernelspec": {
   "display_name": "Python 3",
   "language": "python",
   "name": "python3"
  },
  "language_info": {
   "codemirror_mode": {
    "name": "ipython",
    "version": 3
   },
   "file_extension": ".py",
   "mimetype": "text/x-python",
   "name": "python",
   "nbconvert_exporter": "python",
   "pygments_lexer": "ipython3",
   "version": "3.7.6"
  }
 },
 "nbformat": 4,
 "nbformat_minor": 4
}
